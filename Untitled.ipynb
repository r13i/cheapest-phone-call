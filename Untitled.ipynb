{
 "cells": [
  {
   "cell_type": "code",
   "execution_count": 401,
   "metadata": {},
   "outputs": [],
   "source": [
    "import random\n",
    "import string\n",
    "\n",
    "import numpy as np\n",
    "import pandas as pd\n",
    "\n",
    "from IPython.display import display, HTML"
   ]
  },
  {
   "cell_type": "markdown",
   "metadata": {},
   "source": [
    "# Helper Functions"
   ]
  },
  {
   "cell_type": "code",
   "execution_count": 282,
   "metadata": {},
   "outputs": [
    {
     "data": {
      "text/plain": [
       "'5'"
      ]
     },
     "metadata": {},
     "output_type": "display_data"
    },
    {
     "data": {
      "text/plain": [
       "'149'"
      ]
     },
     "metadata": {},
     "output_type": "display_data"
    },
    {
     "data": {
      "text/plain": [
       "'19684'"
      ]
     },
     "metadata": {},
     "output_type": "display_data"
    },
    {
     "data": {
      "text/plain": [
       "'6314760'"
      ]
     },
     "metadata": {},
     "output_type": "display_data"
    }
   ],
   "source": [
    "def prefix_generator(size):\n",
    "    \"\"\"\n",
    "    Helper function to generate a random phone prefix from a set of digits\n",
    "    \"\"\"\n",
    "    return ''.join(random.choices(string.digits, k=size))\n",
    "\n",
    "\n",
    "# Testing\n",
    "display(prefix_generator(1))\n",
    "display(prefix_generator(3))\n",
    "display(prefix_generator(5))\n",
    "display(prefix_generator(7))"
   ]
  },
  {
   "cell_type": "code",
   "execution_count": 286,
   "metadata": {},
   "outputs": [
    {
     "data": {
      "text/plain": [
       "[['1187', 2.48], ['12999', 0.91], ['70', 1.34]]"
      ]
     },
     "metadata": {},
     "output_type": "display_data"
    },
    {
     "data": {
      "text/plain": [
       "[['18', 1.41], ['465', 1.74], ['5', 1.58], ['53', 2.27], ['75', 0.31]]"
      ]
     },
     "metadata": {},
     "output_type": "display_data"
    },
    {
     "data": {
      "text/plain": [
       "[['3', 0.48], ['42282', 1.9], ['627', 1.7], ['656', 2.28]]"
      ]
     },
     "metadata": {},
     "output_type": "display_data"
    }
   ],
   "source": [
    "def price_list_generator(max_size, max_prefix_size, min_price=0.1, max_price=3.0):\n",
    "    \"\"\"\n",
    "    Helper function to generate a price list with :\n",
    "        - random size : the list size is randomly selected between 1 and `max_size`\n",
    "        - random prefixes : each prefix has a length randomly selected between 1 and `max_prefix_size`\n",
    "        - random prices : to each prefix is matched a price from a uniform random distribution [min_price, max_price]\n",
    "    \"\"\"\n",
    "    return sorted([\n",
    "        [\n",
    "            prefix_generator(random.randint(1, max_prefix_size)),\n",
    "            np.round(random.uniform(min_price, max_price), 2)\n",
    "        ]\n",
    "        for _ in range(random.randint(1, max_size))\n",
    "    ])\n",
    "\n",
    "\n",
    "# Testing\n",
    "display(price_list_generator(max_size=3, max_prefix_size=5))\n",
    "display(price_list_generator(max_size=5, max_prefix_size=5))\n",
    "display(price_list_generator(max_size=7, max_prefix_size=5))"
   ]
  },
  {
   "cell_type": "code",
   "execution_count": 394,
   "metadata": {},
   "outputs": [],
   "source": [
    "def create_prices_dataset(num_operators, max_size, max_prefix_size=5):\n",
    "    \"\"\"\n",
    "    Helper function for creating a dataset holding the operators, the prefixes for\n",
    "    each operator, and the price for each prefix\n",
    "    \"\"\"\n",
    "    \n",
    "    # Since operator names are unknown, we create a list of N letters ['A', 'B', ...]\n",
    "    operators = list(string.ascii_uppercase)[:num_operators]\n",
    "    \n",
    "    # Create a DataFrame holding the operator name, the prefixes for that operator, and the price for each prefix\n",
    "    df_list = []\n",
    "    \n",
    "    for op in operators:\n",
    "        df = pd.DataFrame(price_list_generator(max_size, max_prefix_size), columns=[\"Prefix\", \"Price\"])\n",
    "        df[\"Operator\"] = op\n",
    "        \n",
    "        df_list.append(df)\n",
    "        \n",
    "    # Return a concatenated dataframe\n",
    "    return pd.concat(df_list)"
   ]
  },
  {
   "cell_type": "markdown",
   "metadata": {},
   "source": [
    "### Generate a random dataset"
   ]
  },
  {
   "cell_type": "code",
   "execution_count": 422,
   "metadata": {},
   "outputs": [],
   "source": [
    "NUM_OPERATORS = 3    # Number of operators\n",
    "MAX_SIZE      = 1000 # Max list size for each operator\n",
    "\n",
    "price_df = create_prices_dataset(num_operators=NUM_OPERATORS, max_size=MAX_SIZE)\n",
    "\n",
    "# Remove duplicated prefixes\n",
    "price_df = price_df.drop_duplicates(\"Prefix\")"
   ]
  },
  {
   "cell_type": "markdown",
   "metadata": {},
   "source": [
    "###### Display a sub-dataset for each operator"
   ]
  },
  {
   "cell_type": "code",
   "execution_count": 418,
   "metadata": {},
   "outputs": [
    {
     "data": {
      "text/html": [
       "<div>\n",
       "<style scoped>\n",
       "    .dataframe tbody tr th:only-of-type {\n",
       "        vertical-align: middle;\n",
       "    }\n",
       "\n",
       "    .dataframe tbody tr th {\n",
       "        vertical-align: top;\n",
       "    }\n",
       "\n",
       "    .dataframe thead th {\n",
       "        text-align: right;\n",
       "    }\n",
       "</style>\n",
       "<table border=\"1\" class=\"dataframe\">\n",
       "  <thead>\n",
       "    <tr style=\"text-align: right;\">\n",
       "      <th></th>\n",
       "      <th>Prefix</th>\n",
       "      <th>Price</th>\n",
       "      <th>Operator</th>\n",
       "    </tr>\n",
       "  </thead>\n",
       "  <tbody>\n",
       "    <tr>\n",
       "      <th>297</th>\n",
       "      <td>275</td>\n",
       "      <td>1.23</td>\n",
       "      <td>A</td>\n",
       "    </tr>\n",
       "    <tr>\n",
       "      <th>491</th>\n",
       "      <td>48742</td>\n",
       "      <td>0.41</td>\n",
       "      <td>A</td>\n",
       "    </tr>\n",
       "    <tr>\n",
       "      <th>558</th>\n",
       "      <td>558</td>\n",
       "      <td>0.27</td>\n",
       "      <td>A</td>\n",
       "    </tr>\n",
       "    <tr>\n",
       "      <th>581</th>\n",
       "      <td>58277</td>\n",
       "      <td>2.20</td>\n",
       "      <td>A</td>\n",
       "    </tr>\n",
       "    <tr>\n",
       "      <th>625</th>\n",
       "      <td>627</td>\n",
       "      <td>1.94</td>\n",
       "      <td>A</td>\n",
       "    </tr>\n",
       "  </tbody>\n",
       "</table>\n",
       "</div>"
      ],
      "text/plain": [
       "    Prefix  Price Operator\n",
       "297    275   1.23        A\n",
       "491  48742   0.41        A\n",
       "558    558   0.27        A\n",
       "581  58277   2.20        A\n",
       "625    627   1.94        A"
      ]
     },
     "metadata": {},
     "output_type": "display_data"
    },
    {
     "data": {
      "text/html": [
       "<div>\n",
       "<style scoped>\n",
       "    .dataframe tbody tr th:only-of-type {\n",
       "        vertical-align: middle;\n",
       "    }\n",
       "\n",
       "    .dataframe tbody tr th {\n",
       "        vertical-align: top;\n",
       "    }\n",
       "\n",
       "    .dataframe thead th {\n",
       "        text-align: right;\n",
       "    }\n",
       "</style>\n",
       "<table border=\"1\" class=\"dataframe\">\n",
       "  <thead>\n",
       "    <tr style=\"text-align: right;\">\n",
       "      <th></th>\n",
       "      <th>Prefix</th>\n",
       "      <th>Price</th>\n",
       "      <th>Operator</th>\n",
       "    </tr>\n",
       "  </thead>\n",
       "  <tbody>\n",
       "    <tr>\n",
       "      <th>11</th>\n",
       "      <td>0558</td>\n",
       "      <td>0.35</td>\n",
       "      <td>B</td>\n",
       "    </tr>\n",
       "    <tr>\n",
       "      <th>55</th>\n",
       "      <td>416</td>\n",
       "      <td>1.23</td>\n",
       "      <td>B</td>\n",
       "    </tr>\n",
       "    <tr>\n",
       "      <th>73</th>\n",
       "      <td>5674</td>\n",
       "      <td>2.72</td>\n",
       "      <td>B</td>\n",
       "    </tr>\n",
       "    <tr>\n",
       "      <th>91</th>\n",
       "      <td>7099</td>\n",
       "      <td>0.25</td>\n",
       "      <td>B</td>\n",
       "    </tr>\n",
       "    <tr>\n",
       "      <th>116</th>\n",
       "      <td>902</td>\n",
       "      <td>0.56</td>\n",
       "      <td>B</td>\n",
       "    </tr>\n",
       "  </tbody>\n",
       "</table>\n",
       "</div>"
      ],
      "text/plain": [
       "    Prefix  Price Operator\n",
       "11    0558   0.35        B\n",
       "55     416   1.23        B\n",
       "73    5674   2.72        B\n",
       "91    7099   0.25        B\n",
       "116    902   0.56        B"
      ]
     },
     "metadata": {},
     "output_type": "display_data"
    },
    {
     "data": {
      "text/html": [
       "<div>\n",
       "<style scoped>\n",
       "    .dataframe tbody tr th:only-of-type {\n",
       "        vertical-align: middle;\n",
       "    }\n",
       "\n",
       "    .dataframe tbody tr th {\n",
       "        vertical-align: top;\n",
       "    }\n",
       "\n",
       "    .dataframe thead th {\n",
       "        text-align: right;\n",
       "    }\n",
       "</style>\n",
       "<table border=\"1\" class=\"dataframe\">\n",
       "  <thead>\n",
       "    <tr style=\"text-align: right;\">\n",
       "      <th></th>\n",
       "      <th>Prefix</th>\n",
       "      <th>Price</th>\n",
       "      <th>Operator</th>\n",
       "    </tr>\n",
       "  </thead>\n",
       "  <tbody>\n",
       "    <tr>\n",
       "      <th>126</th>\n",
       "      <td>177</td>\n",
       "      <td>0.42</td>\n",
       "      <td>C</td>\n",
       "    </tr>\n",
       "    <tr>\n",
       "      <th>380</th>\n",
       "      <td>53494</td>\n",
       "      <td>1.47</td>\n",
       "      <td>C</td>\n",
       "    </tr>\n",
       "    <tr>\n",
       "      <th>496</th>\n",
       "      <td>700</td>\n",
       "      <td>2.22</td>\n",
       "      <td>C</td>\n",
       "    </tr>\n",
       "    <tr>\n",
       "      <th>520</th>\n",
       "      <td>742</td>\n",
       "      <td>0.68</td>\n",
       "      <td>C</td>\n",
       "    </tr>\n",
       "    <tr>\n",
       "      <th>533</th>\n",
       "      <td>7618</td>\n",
       "      <td>0.58</td>\n",
       "      <td>C</td>\n",
       "    </tr>\n",
       "  </tbody>\n",
       "</table>\n",
       "</div>"
      ],
      "text/plain": [
       "    Prefix  Price Operator\n",
       "126    177   0.42        C\n",
       "380  53494   1.47        C\n",
       "496    700   2.22        C\n",
       "520    742   0.68        C\n",
       "533   7618   0.58        C"
      ]
     },
     "metadata": {},
     "output_type": "display_data"
    }
   ],
   "source": [
    "for op, prices in price_df.groupby([\"Operator\"]):\n",
    "    display(prices.sample(frac=1).head(5).sort_values(by=\"Prefix\"))"
   ]
  },
  {
   "cell_type": "markdown",
   "metadata": {},
   "source": [
    "### Adding save / load capabilities"
   ]
  },
  {
   "cell_type": "markdown",
   "metadata": {},
   "source": [
    "##### Save to CSV format"
   ]
  },
  {
   "cell_type": "code",
   "execution_count": null,
   "metadata": {},
   "outputs": [],
   "source": [
    "price_df.to_csv(\"price-list.csv\", header=True, index=False)"
   ]
  },
  {
   "cell_type": "markdown",
   "metadata": {},
   "source": [
    "##### Load from CSV"
   ]
  },
  {
   "cell_type": "code",
   "execution_count": null,
   "metadata": {},
   "outputs": [],
   "source": [
    "price_df = pd.read_csv(\"price-list.csv\")"
   ]
  },
  {
   "cell_type": "markdown",
   "metadata": {},
   "source": [
    "# Extract Best Prefix Match for each Operator"
   ]
  },
  {
   "cell_type": "markdown",
   "metadata": {},
   "source": [
    "#### Generating random numbers to call"
   ]
  },
  {
   "cell_type": "code",
   "execution_count": 414,
   "metadata": {},
   "outputs": [
    {
     "name": "stdout",
     "output_type": "stream",
     "text": [
      "We'll be calling these numbers :\n"
     ]
    },
    {
     "data": {
      "text/plain": [
       "['6349809787', '2217160023', '6843094149', '3958886792', '4930352079']"
      ]
     },
     "metadata": {},
     "output_type": "display_data"
    }
   ],
   "source": [
    "CALL_SIZE = 100    # How many numbers to call\n",
    "NUM_SIZE  = 10     # The size of each number (e.g. we'd want to call 0123456789, which has a size of 10 digits)\n",
    "\n",
    "# The function `prefix_generator` comes in very handy to generate random numbers to call\n",
    "call_list = [prefix_generator(NUM_SIZE) for _ in range(CALL_SIZE)]\n",
    "\n",
    "print(\"We'll be calling these numbers :\")\n",
    "display(call_list[:5])"
   ]
  },
  {
   "cell_type": "markdown",
   "metadata": {},
   "source": [
    "### Helper Functions"
   ]
  },
  {
   "cell_type": "code",
   "execution_count": 525,
   "metadata": {},
   "outputs": [],
   "source": [
    "def get_operator_best_match(number, data):\n",
    "    \"\"\"\n",
    "    Helper function to extract the best prefix match\n",
    "    \n",
    "    @arg number (string): the number to call\n",
    "    @arg data (pd.DataFrame): the prices dataset\n",
    "    \n",
    "    @return : a pd.DataFrame holding the data (Operator / Prefix that matches best / Price)\n",
    "    \"\"\"\n",
    "    # Get all prefixes that match the number to call\n",
    "    all_prefixes = data[data.apply(lambda x: number.startswith(x[\"Prefix\"]), axis=1)]\n",
    "    \n",
    "    # Find the longest prefix for each operator\n",
    "    result = {\"Operator\": [], \"Prefix\": [], \"Price\": []}\n",
    "    \n",
    "    for op, group in all_prefixes.groupby(\"Operator\"):\n",
    "        result[\"Operator\"].append(op)\n",
    "        result[\"Prefix\"].append(group.iloc[-1][\"Prefix\"])\n",
    "        result[\"Price\"].append(group.iloc[-1][\"Price\"])\n",
    "        \n",
    "    return pd.DataFrame.from_dict(result)"
   ]
  },
  {
   "cell_type": "code",
   "execution_count": 526,
   "metadata": {},
   "outputs": [],
   "source": [
    "def cheapest_operator(price_per_operator):\n",
    "    \"\"\"\n",
    "    Helper function to find the cheapest operator for a given number\n",
    "    \n",
    "    @arg price_per_operator (pd.DataFrame): a dictionary holding the data (Operator/Prefix that matches best/Price)\n",
    "    \n",
    "    @return: the operator name\n",
    "    \"\"\"\n",
    "    \n",
    "    return price_per_operator.iloc[price_per_operator[\"Price\"].idxmin()][\"Operator\"]"
   ]
  },
  {
   "cell_type": "markdown",
   "metadata": {},
   "source": [
    "#### Unit Test"
   ]
  },
  {
   "cell_type": "code",
   "execution_count": 533,
   "metadata": {},
   "outputs": [
    {
     "data": {
      "text/html": [
       "<div>\n",
       "<style scoped>\n",
       "    .dataframe tbody tr th:only-of-type {\n",
       "        vertical-align: middle;\n",
       "    }\n",
       "\n",
       "    .dataframe tbody tr th {\n",
       "        vertical-align: top;\n",
       "    }\n",
       "\n",
       "    .dataframe thead th {\n",
       "        text-align: right;\n",
       "    }\n",
       "</style>\n",
       "<table border=\"1\" class=\"dataframe\">\n",
       "  <thead>\n",
       "    <tr style=\"text-align: right;\">\n",
       "      <th></th>\n",
       "      <th>Prefix</th>\n",
       "      <th>Price</th>\n",
       "      <th>Operator</th>\n",
       "    </tr>\n",
       "  </thead>\n",
       "  <tbody>\n",
       "    <tr>\n",
       "      <th>0</th>\n",
       "      <td>1</td>\n",
       "      <td>0.44</td>\n",
       "      <td>A</td>\n",
       "    </tr>\n",
       "    <tr>\n",
       "      <th>1</th>\n",
       "      <td>12</td>\n",
       "      <td>2.93</td>\n",
       "      <td>A</td>\n",
       "    </tr>\n",
       "    <tr>\n",
       "      <th>2</th>\n",
       "      <td>123</td>\n",
       "      <td>1.46</td>\n",
       "      <td>A</td>\n",
       "    </tr>\n",
       "    <tr>\n",
       "      <th>3</th>\n",
       "      <td>12</td>\n",
       "      <td>2.33</td>\n",
       "      <td>B</td>\n",
       "    </tr>\n",
       "    <tr>\n",
       "      <th>4</th>\n",
       "      <td>123456</td>\n",
       "      <td>1.66</td>\n",
       "      <td>B</td>\n",
       "    </tr>\n",
       "    <tr>\n",
       "      <th>5</th>\n",
       "      <td>1</td>\n",
       "      <td>1.37</td>\n",
       "      <td>C</td>\n",
       "    </tr>\n",
       "    <tr>\n",
       "      <th>6</th>\n",
       "      <td>99</td>\n",
       "      <td>2.14</td>\n",
       "      <td>C</td>\n",
       "    </tr>\n",
       "  </tbody>\n",
       "</table>\n",
       "</div>"
      ],
      "text/plain": [
       "   Prefix  Price Operator\n",
       "0       1   0.44        A\n",
       "1      12   2.93        A\n",
       "2     123   1.46        A\n",
       "3      12   2.33        B\n",
       "4  123456   1.66        B\n",
       "5       1   1.37        C\n",
       "6      99   2.14        C"
      ]
     },
     "metadata": {},
     "output_type": "display_data"
    },
    {
     "data": {
      "text/html": [
       "<h3>We can see that the function behaves correctly by returning the expected values, which are '123' for 'A' and '123456' for 'B' and '1' for 'C'"
      ],
      "text/plain": [
       "<IPython.core.display.HTML object>"
      ]
     },
     "metadata": {},
     "output_type": "display_data"
    },
    {
     "data": {
      "text/html": [
       "<div>\n",
       "<style scoped>\n",
       "    .dataframe tbody tr th:only-of-type {\n",
       "        vertical-align: middle;\n",
       "    }\n",
       "\n",
       "    .dataframe tbody tr th {\n",
       "        vertical-align: top;\n",
       "    }\n",
       "\n",
       "    .dataframe thead th {\n",
       "        text-align: right;\n",
       "    }\n",
       "</style>\n",
       "<table border=\"1\" class=\"dataframe\">\n",
       "  <thead>\n",
       "    <tr style=\"text-align: right;\">\n",
       "      <th></th>\n",
       "      <th>Operator</th>\n",
       "      <th>Prefix</th>\n",
       "      <th>Price</th>\n",
       "    </tr>\n",
       "  </thead>\n",
       "  <tbody>\n",
       "    <tr>\n",
       "      <th>0</th>\n",
       "      <td>A</td>\n",
       "      <td>123</td>\n",
       "      <td>1.46</td>\n",
       "    </tr>\n",
       "    <tr>\n",
       "      <th>1</th>\n",
       "      <td>B</td>\n",
       "      <td>123456</td>\n",
       "      <td>1.66</td>\n",
       "    </tr>\n",
       "    <tr>\n",
       "      <th>2</th>\n",
       "      <td>C</td>\n",
       "      <td>1</td>\n",
       "      <td>1.37</td>\n",
       "    </tr>\n",
       "  </tbody>\n",
       "</table>\n",
       "</div>"
      ],
      "text/plain": [
       "  Operator  Prefix  Price\n",
       "0        A     123   1.46\n",
       "1        B  123456   1.66\n",
       "2        C       1   1.37"
      ]
     },
     "metadata": {},
     "output_type": "display_data"
    },
    {
     "data": {
      "text/html": [
       "<h3>Furthermore, the assertion that the cheapest operator is 'C' is true."
      ],
      "text/plain": [
       "<IPython.core.display.HTML object>"
      ]
     },
     "metadata": {},
     "output_type": "display_data"
    },
    {
     "data": {
      "text/html": [
       "<h4>cheapest_operator(match_df) == 'C'"
      ],
      "text/plain": [
       "<IPython.core.display.HTML object>"
      ]
     },
     "metadata": {},
     "output_type": "display_data"
    }
   ],
   "source": [
    "test_df = pd.DataFrame.from_dict({\n",
    "    \"Prefix\"   : [\"1\", \"12\", \"123\", \"12\", \"123456\", \"1\", \"99\"],\n",
    "    \"Price\"    : np.round(np.random.uniform(0.1, 3.0, 7), 2),\n",
    "    \"Operator\" : [\"A\", \"A\", \"A\", \"B\", \"B\", \"C\", \"C\"]\n",
    "})\n",
    "\n",
    "display(test_df)\n",
    "\n",
    "num = \"123456789\"\n",
    "match_df = get_operator_best_match(num, test_df)\n",
    "\n",
    "display(HTML(\"<h3>We can see that the function behaves correctly by returning the expected \" \\\n",
    "             \"values, which are '123' for 'A' and '123456' for 'B' and '1' for 'C'\"))\n",
    "display(match_df)\n",
    "\n",
    "display(HTML(\"<h3>Furthermore, the assertion that the cheapest operator is 'C' is true.\"))\n",
    "display(HTML(\"<h4>cheapest_operator(match_df) == 'C'\"))\n",
    "\n",
    "assert(cheapest_operator(match_df) == \"C\")"
   ]
  },
  {
   "cell_type": "code",
   "execution_count": null,
   "metadata": {},
   "outputs": [],
   "source": [
    "[0.4, 2.9, 1.4, ]"
   ]
  }
 ],
 "metadata": {
  "kernelspec": {
   "display_name": "Python 3",
   "language": "python",
   "name": "python3"
  },
  "language_info": {
   "codemirror_mode": {
    "name": "ipython",
    "version": 3
   },
   "file_extension": ".py",
   "mimetype": "text/x-python",
   "name": "python",
   "nbconvert_exporter": "python",
   "pygments_lexer": "ipython3",
   "version": "3.6.6"
  }
 },
 "nbformat": 4,
 "nbformat_minor": 2
}
