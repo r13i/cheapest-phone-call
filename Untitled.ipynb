{
 "cells": [
  {
   "cell_type": "code",
   "execution_count": 85,
   "metadata": {},
   "outputs": [],
   "source": [
    "import random\n",
    "from collections import deque\n",
    "\n",
    "import numpy as np\n",
    "import pandas as pd\n",
    "\n",
    "from IPython.display import display"
   ]
  },
  {
   "cell_type": "code",
   "execution_count": 3,
   "metadata": {},
   "outputs": [],
   "source": [
    "pd.DataFrame?"
   ]
  },
  {
   "cell_type": "code",
   "execution_count": 137,
   "metadata": {},
   "outputs": [
    {
     "data": {
      "text/plain": [
       "['1', '2', '3', '4', '5', '6', '7', '8', '9']"
      ]
     },
     "execution_count": 137,
     "metadata": {},
     "output_type": "execute_result"
    }
   ],
   "source": [
    "digits = [str(i) for i in range(1, 10)]\n",
    "digits"
   ]
  },
  {
   "cell_type": "code",
   "execution_count": 140,
   "metadata": {},
   "outputs": [
    {
     "data": {
      "text/plain": [
       "'1'"
      ]
     },
     "metadata": {},
     "output_type": "display_data"
    },
    {
     "data": {
      "text/plain": [
       "'389'"
      ]
     },
     "metadata": {},
     "output_type": "display_data"
    },
    {
     "data": {
      "text/plain": [
       "'89583'"
      ]
     },
     "metadata": {},
     "output_type": "display_data"
    },
    {
     "data": {
      "text/plain": [
       "'8958837'"
      ]
     },
     "metadata": {},
     "output_type": "display_data"
    },
    {
     "data": {
      "text/plain": [
       "'223234822'"
      ]
     },
     "metadata": {},
     "output_type": "display_data"
    }
   ],
   "source": [
    "def prefix_generator(size, digits):\n",
    "    \"\"\"\n",
    "    Helper function to generate a random phone prefix from a set of digits\n",
    "    \"\"\"\n",
    "    return ''.join(random.choices(digits, k=size))\n",
    "\n",
    "\n",
    "# Testing\n",
    "display(prefix_generator(1, digits))\n",
    "display(prefix_generator(3, digits))\n",
    "display(prefix_generator(5, digits))\n",
    "display(prefix_generator(7, digits))\n",
    "display(prefix_generator(9, digits))"
   ]
  },
  {
   "cell_type": "code",
   "execution_count": 171,
   "metadata": {},
   "outputs": [
    {
     "data": {
      "text/plain": [
       "[('39448', 0.22), ('648', 2.7)]"
      ]
     },
     "metadata": {},
     "output_type": "display_data"
    },
    {
     "data": {
      "text/plain": [
       "[('324', 0.85)]"
      ]
     },
     "metadata": {},
     "output_type": "display_data"
    },
    {
     "data": {
      "text/plain": [
       "[('4482', 0.31), ('458', 0.88), ('8', 2.55), ('9867', 2.61)]"
      ]
     },
     "metadata": {},
     "output_type": "display_data"
    }
   ],
   "source": [
    "def price_list_generator(digits, max_size, max_prefix_size, min_price=0.1, max_price=3.0):\n",
    "    \"\"\"\n",
    "    Helper function to generate a price list with :\n",
    "        - random size : the list size is randomly selected between 1 and `max_size`\n",
    "        - random prefixes : each prefix has a length randomy selected between 1 and `max_prefix_size`\n",
    "        - random prices : to each prefix is matched a price from a uniform random distribution [min_price, max_price]\n",
    "    \"\"\"\n",
    "    return sorted([\n",
    "        (\n",
    "            prefix_generator(random.randint(1, max_prefix_size), digits),\n",
    "            np.round(random.uniform(min_price, max_price), 2)\n",
    "        )\n",
    "        for _ in range(random.randint(1, max_size))\n",
    "    ])\n",
    "\n",
    "\n",
    "# Testing\n",
    "display(price_list_generator(digits, max_size=3, max_prefix_size=5))\n",
    "display(price_list_generator(digits, max_size=5, max_prefix_size=5))\n",
    "display(price_list_generator(digits, max_size=7, max_prefix_size=5))"
   ]
  }
 ],
 "metadata": {
  "kernelspec": {
   "display_name": "Python 3",
   "language": "python",
   "name": "python3"
  },
  "language_info": {
   "codemirror_mode": {
    "name": "ipython",
    "version": 3
   },
   "file_extension": ".py",
   "mimetype": "text/x-python",
   "name": "python",
   "nbconvert_exporter": "python",
   "pygments_lexer": "ipython3",
   "version": "3.6.6"
  }
 },
 "nbformat": 4,
 "nbformat_minor": 2
}
