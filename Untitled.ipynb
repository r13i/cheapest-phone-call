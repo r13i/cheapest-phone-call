{
 "cells": [
  {
   "cell_type": "code",
   "execution_count": 185,
   "metadata": {},
   "outputs": [],
   "source": [
    "import random\n",
    "import string\n",
    "\n",
    "import numpy as np\n",
    "import pandas as pd\n",
    "\n",
    "from IPython.display import display"
   ]
  },
  {
   "cell_type": "code",
   "execution_count": 282,
   "metadata": {},
   "outputs": [
    {
     "data": {
      "text/plain": [
       "'5'"
      ]
     },
     "metadata": {},
     "output_type": "display_data"
    },
    {
     "data": {
      "text/plain": [
       "'149'"
      ]
     },
     "metadata": {},
     "output_type": "display_data"
    },
    {
     "data": {
      "text/plain": [
       "'19684'"
      ]
     },
     "metadata": {},
     "output_type": "display_data"
    },
    {
     "data": {
      "text/plain": [
       "'6314760'"
      ]
     },
     "metadata": {},
     "output_type": "display_data"
    }
   ],
   "source": [
    "def prefix_generator(size):\n",
    "    \"\"\"\n",
    "    Helper function to generate a random phone prefix from a set of digits\n",
    "    \"\"\"\n",
    "    return ''.join(random.choices(string.digits, k=size))\n",
    "\n",
    "\n",
    "# Testing\n",
    "display(prefix_generator(1))\n",
    "display(prefix_generator(3))\n",
    "display(prefix_generator(5))\n",
    "display(prefix_generator(7))"
   ]
  },
  {
   "cell_type": "code",
   "execution_count": 286,
   "metadata": {},
   "outputs": [
    {
     "data": {
      "text/plain": [
       "[['1187', 2.48], ['12999', 0.91], ['70', 1.34]]"
      ]
     },
     "metadata": {},
     "output_type": "display_data"
    },
    {
     "data": {
      "text/plain": [
       "[['18', 1.41], ['465', 1.74], ['5', 1.58], ['53', 2.27], ['75', 0.31]]"
      ]
     },
     "metadata": {},
     "output_type": "display_data"
    },
    {
     "data": {
      "text/plain": [
       "[['3', 0.48], ['42282', 1.9], ['627', 1.7], ['656', 2.28]]"
      ]
     },
     "metadata": {},
     "output_type": "display_data"
    }
   ],
   "source": [
    "def price_list_generator(max_size, max_prefix_size, min_price=0.1, max_price=3.0):\n",
    "    \"\"\"\n",
    "    Helper function to generate a price list with :\n",
    "        - random size : the list size is randomly selected between 1 and `max_size`\n",
    "        - random prefixes : each prefix has a length randomly selected between 1 and `max_prefix_size`\n",
    "        - random prices : to each prefix is matched a price from a uniform random distribution [min_price, max_price]\n",
    "    \"\"\"\n",
    "    return sorted([\n",
    "        [\n",
    "            prefix_generator(random.randint(1, max_prefix_size)),\n",
    "            np.round(random.uniform(min_price, max_price), 2)\n",
    "        ]\n",
    "        for _ in range(random.randint(1, max_size))\n",
    "    ])\n",
    "\n",
    "\n",
    "# Testing\n",
    "display(price_list_generator(max_size=3, max_prefix_size=5))\n",
    "display(price_list_generator(max_size=5, max_prefix_size=5))\n",
    "display(price_list_generator(max_size=7, max_prefix_size=5))"
   ]
  },
  {
   "cell_type": "code",
   "execution_count": 342,
   "metadata": {},
   "outputs": [
    {
     "data": {
      "text/html": [
       "<div>\n",
       "<style scoped>\n",
       "    .dataframe tbody tr th:only-of-type {\n",
       "        vertical-align: middle;\n",
       "    }\n",
       "\n",
       "    .dataframe tbody tr th {\n",
       "        vertical-align: top;\n",
       "    }\n",
       "\n",
       "    .dataframe thead th {\n",
       "        text-align: right;\n",
       "    }\n",
       "</style>\n",
       "<table border=\"1\" class=\"dataframe\">\n",
       "  <thead>\n",
       "    <tr style=\"text-align: right;\">\n",
       "      <th></th>\n",
       "      <th>Prefix</th>\n",
       "      <th>Price</th>\n",
       "      <th>Operator</th>\n",
       "    </tr>\n",
       "  </thead>\n",
       "  <tbody>\n",
       "    <tr>\n",
       "      <th>0</th>\n",
       "      <td>2397</td>\n",
       "      <td>1.60</td>\n",
       "      <td>A</td>\n",
       "    </tr>\n",
       "    <tr>\n",
       "      <th>1</th>\n",
       "      <td>32</td>\n",
       "      <td>2.43</td>\n",
       "      <td>A</td>\n",
       "    </tr>\n",
       "    <tr>\n",
       "      <th>2</th>\n",
       "      <td>784</td>\n",
       "      <td>1.07</td>\n",
       "      <td>A</td>\n",
       "    </tr>\n",
       "    <tr>\n",
       "      <th>3</th>\n",
       "      <td>87</td>\n",
       "      <td>1.10</td>\n",
       "      <td>A</td>\n",
       "    </tr>\n",
       "    <tr>\n",
       "      <th>4</th>\n",
       "      <td>9655</td>\n",
       "      <td>2.03</td>\n",
       "      <td>A</td>\n",
       "    </tr>\n",
       "  </tbody>\n",
       "</table>\n",
       "</div>"
      ],
      "text/plain": [
       "  Prefix  Price Operator\n",
       "0   2397   1.60        A\n",
       "1     32   2.43        A\n",
       "2    784   1.07        A\n",
       "3     87   1.10        A\n",
       "4   9655   2.03        A"
      ]
     },
     "metadata": {},
     "output_type": "display_data"
    },
    {
     "data": {
      "text/html": [
       "<div>\n",
       "<style scoped>\n",
       "    .dataframe tbody tr th:only-of-type {\n",
       "        vertical-align: middle;\n",
       "    }\n",
       "\n",
       "    .dataframe tbody tr th {\n",
       "        vertical-align: top;\n",
       "    }\n",
       "\n",
       "    .dataframe thead th {\n",
       "        text-align: right;\n",
       "    }\n",
       "</style>\n",
       "<table border=\"1\" class=\"dataframe\">\n",
       "  <thead>\n",
       "    <tr style=\"text-align: right;\">\n",
       "      <th></th>\n",
       "      <th>Prefix</th>\n",
       "      <th>Price</th>\n",
       "      <th>Operator</th>\n",
       "    </tr>\n",
       "  </thead>\n",
       "  <tbody>\n",
       "    <tr>\n",
       "      <th>0</th>\n",
       "      <td>3</td>\n",
       "      <td>2.02</td>\n",
       "      <td>B</td>\n",
       "    </tr>\n",
       "    <tr>\n",
       "      <th>1</th>\n",
       "      <td>48</td>\n",
       "      <td>0.55</td>\n",
       "      <td>B</td>\n",
       "    </tr>\n",
       "    <tr>\n",
       "      <th>2</th>\n",
       "      <td>6776</td>\n",
       "      <td>0.21</td>\n",
       "      <td>B</td>\n",
       "    </tr>\n",
       "    <tr>\n",
       "      <th>4</th>\n",
       "      <td>9773</td>\n",
       "      <td>0.52</td>\n",
       "      <td>B</td>\n",
       "    </tr>\n",
       "  </tbody>\n",
       "</table>\n",
       "</div>"
      ],
      "text/plain": [
       "  Prefix  Price Operator\n",
       "0      3   2.02        B\n",
       "1     48   0.55        B\n",
       "2   6776   0.21        B\n",
       "4   9773   0.52        B"
      ]
     },
     "metadata": {},
     "output_type": "display_data"
    },
    {
     "data": {
      "text/html": [
       "<div>\n",
       "<style scoped>\n",
       "    .dataframe tbody tr th:only-of-type {\n",
       "        vertical-align: middle;\n",
       "    }\n",
       "\n",
       "    .dataframe tbody tr th {\n",
       "        vertical-align: top;\n",
       "    }\n",
       "\n",
       "    .dataframe thead th {\n",
       "        text-align: right;\n",
       "    }\n",
       "</style>\n",
       "<table border=\"1\" class=\"dataframe\">\n",
       "  <thead>\n",
       "    <tr style=\"text-align: right;\">\n",
       "      <th></th>\n",
       "      <th>Prefix</th>\n",
       "      <th>Price</th>\n",
       "      <th>Operator</th>\n",
       "    </tr>\n",
       "  </thead>\n",
       "  <tbody>\n",
       "    <tr>\n",
       "      <th>0</th>\n",
       "      <td>1162</td>\n",
       "      <td>1.43</td>\n",
       "      <td>C</td>\n",
       "    </tr>\n",
       "    <tr>\n",
       "      <th>1</th>\n",
       "      <td>3476</td>\n",
       "      <td>0.37</td>\n",
       "      <td>C</td>\n",
       "    </tr>\n",
       "    <tr>\n",
       "      <th>2</th>\n",
       "      <td>50371</td>\n",
       "      <td>2.57</td>\n",
       "      <td>C</td>\n",
       "    </tr>\n",
       "    <tr>\n",
       "      <th>3</th>\n",
       "      <td>819</td>\n",
       "      <td>1.23</td>\n",
       "      <td>C</td>\n",
       "    </tr>\n",
       "    <tr>\n",
       "      <th>4</th>\n",
       "      <td>933</td>\n",
       "      <td>1.57</td>\n",
       "      <td>C</td>\n",
       "    </tr>\n",
       "  </tbody>\n",
       "</table>\n",
       "</div>"
      ],
      "text/plain": [
       "  Prefix  Price Operator\n",
       "0   1162   1.43        C\n",
       "1   3476   0.37        C\n",
       "2  50371   2.57        C\n",
       "3    819   1.23        C\n",
       "4    933   1.57        C"
      ]
     },
     "metadata": {},
     "output_type": "display_data"
    }
   ],
   "source": [
    "def create_prices_dataset(num_operators):\n",
    "    \"\"\"\n",
    "    Helper function for creating a dataset holding the operators, the prefixes for\n",
    "    each operator, and the price for each prefix\n",
    "    \"\"\"\n",
    "    \n",
    "    # Since operator names are unknown, we create a list of N letters ['A', 'B', ...]\n",
    "    operators = list(string.ascii_uppercase)[:num_operators]\n",
    "    \n",
    "    # Create a DataFrame holding the operator name, the prefixes for that operator, and the price for each prefix\n",
    "    df_list = []\n",
    "    \n",
    "    for op in operators:\n",
    "        df = pd.DataFrame(price_list_generator(max_size=10, max_prefix_size=5), columns=[\"Prefix\", \"Price\"])\n",
    "        df[\"Operator\"] = op\n",
    "        \n",
    "        df_list.append(df)\n",
    "        \n",
    "    # Return a concatenated dataframe\n",
    "    return pd.concat(df_list)\n",
    "\n",
    "\n",
    "# Testing\n",
    "price_df = create_prices_dataset(num_operators=3)\n",
    "\n",
    "# Remove duplicated prefixes\n",
    "price_df = price_df.drop_duplicates(\"Prefix\")\n",
    "\n",
    "for op, prices in price_df.groupby([\"Operator\"]):\n",
    "    display(prices)\n",
    "    \n",
    "price_df.to_csv(\"price-list.csv\", header=True, index=False)"
   ]
  }
 ],
 "metadata": {
  "kernelspec": {
   "display_name": "Python 3",
   "language": "python",
   "name": "python3"
  },
  "language_info": {
   "codemirror_mode": {
    "name": "ipython",
    "version": 3
   },
   "file_extension": ".py",
   "mimetype": "text/x-python",
   "name": "python",
   "nbconvert_exporter": "python",
   "pygments_lexer": "ipython3",
   "version": "3.6.6"
  }
 },
 "nbformat": 4,
 "nbformat_minor": 2
}
